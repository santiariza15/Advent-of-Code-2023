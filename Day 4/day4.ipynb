{
 "cells": [
  {
   "cell_type": "code",
   "execution_count": 33,
   "metadata": {},
   "outputs": [
    {
     "name": "stdout",
     "output_type": "stream",
     "text": [
      "27845\n"
     ]
    }
   ],
   "source": [
    "# Day 4\n",
    "\n",
    "games = []\n",
    "with open(\"day4input.txt\") as file:\n",
    "    for line in file:\n",
    "        game_result = {}\n",
    "        game_line = line.rstrip().split(':')\n",
    "        output_list = [[int(num) for num in group.split()] for group in game_line[1].split('|')]\n",
    "        games.append(output_list)\n",
    "results = []\n",
    "for game in games:\n",
    "    winners = [num for num in game[1] if num in game[0]]\n",
    "    result = 0 if not winners else pow(2,len(winners) - 1)\n",
    "    results.append(result)\n",
    "print(sum(results))"
   ]
  },
  {
   "cell_type": "code",
   "execution_count": 34,
   "metadata": {},
   "outputs": [
    {
     "name": "stdout",
     "output_type": "stream",
     "text": [
      "9496801\n"
     ]
    }
   ],
   "source": [
    "cards = [1] * (len(games))\n",
    "for idx, game in enumerate(games):\n",
    "    winners = [num for num in game[1] if num in game[0]]\n",
    "    if not winners:\n",
    "        continue\n",
    "    for x in range(len(winners)):\n",
    "        cards[idx + x + 1] += cards[idx]\n",
    "print(sum(cards))"
   ]
  }
 ],
 "metadata": {
  "kernelspec": {
   "display_name": "Python 3",
   "language": "python",
   "name": "python3"
  },
  "language_info": {
   "codemirror_mode": {
    "name": "ipython",
    "version": 3
   },
   "file_extension": ".py",
   "mimetype": "text/x-python",
   "name": "python",
   "nbconvert_exporter": "python",
   "pygments_lexer": "ipython3",
   "version": "3.11.0"
  }
 },
 "nbformat": 4,
 "nbformat_minor": 2
}
