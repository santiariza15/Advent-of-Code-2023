{
 "cells": [
  {
   "cell_type": "code",
   "execution_count": 1,
   "metadata": {},
   "outputs": [
    {
     "name": "stdout",
     "output_type": "stream",
     "text": [
      "2416\n"
     ]
    }
   ],
   "source": [
    "# Day 2\n",
    "games = {}\n",
    "with open(\"day2_input.txt\") as file:\n",
    "    for line in file:\n",
    "        game_result = {}\n",
    "        game_line = line.rstrip().split(':')\n",
    "        game_id = int(game_line[0].replace('Game ', ''))\n",
    "        game_filtered = game_line[1].split(';')\n",
    "        output_list = [\n",
    "            {'blue': 0, 'green': 0, 'red': 0, **{color: int(quantity) for quantity, color in (pair.strip().split(' ') for pair in item.split(','))}}\n",
    "            for item in game_filtered\n",
    "        ]\n",
    "        games[game_id] = output_list\n",
    "flagged_games = []\n",
    "for game_id, game in games.items():\n",
    "    excluded_game = any(\n",
    "        g['blue'] > 14 or g['green'] > 13 or g['red'] > 12 for g in game\n",
    "    )\n",
    "    if not excluded_game:\n",
    "        flagged_games.append(game_id)\n",
    "\n",
    "print(sum(flagged_games))"
   ]
  },
  {
   "cell_type": "code",
   "execution_count": 2,
   "metadata": {},
   "outputs": [
    {
     "name": "stdout",
     "output_type": "stream",
     "text": [
      "63307\n"
     ]
    }
   ],
   "source": [
    "powers = []\n",
    "for _,game in games.items():\n",
    "    min_blue_list = []\n",
    "    min_red_list = []\n",
    "    min_green_list = []\n",
    "    for g in game:\n",
    "        min_blue_list.append(g['blue'])\n",
    "        min_red_list.append(g['red'])\n",
    "        min_green_list.append(g['green'])\n",
    "    min_blue = max(min_blue_list)\n",
    "    min_red = max(min_red_list)\n",
    "    min_green = max(min_green_list)\n",
    "    powers.append(min_blue * min_red * min_green)\n",
    "\n",
    "print(sum(powers))"
   ]
  }
 ],
 "metadata": {
  "kernelspec": {
   "display_name": "Python 3",
   "language": "python",
   "name": "python3"
  },
  "language_info": {
   "codemirror_mode": {
    "name": "ipython",
    "version": 3
   },
   "file_extension": ".py",
   "mimetype": "text/x-python",
   "name": "python",
   "nbconvert_exporter": "python",
   "pygments_lexer": "ipython3",
   "version": "3.11.0"
  },
  "orig_nbformat": 4
 },
 "nbformat": 4,
 "nbformat_minor": 2
}
