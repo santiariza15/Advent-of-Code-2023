{
 "cells": [
  {
   "cell_type": "code",
   "execution_count": 1,
   "metadata": {},
   "outputs": [
    {
     "name": "stdout",
     "output_type": "stream",
     "text": [
      "55017\n"
     ]
    }
   ],
   "source": [
    "# Day 1\n",
    "\n",
    "import re\n",
    "with open(\"day1input.txt\") as file:\n",
    "    lines = [line.rstrip() for line in file]\n",
    "\n",
    "def calibration_values(lines: str):\n",
    "    num_list = []\n",
    "    for line in lines:\n",
    "        nums_in_line = re.findall(r'\\d', line)\n",
    "        num_list.append(int(nums_in_line[0] + nums_in_line[-1]))\n",
    "    return sum(num_list)\n",
    "\n",
    "print(calibration_values(lines))"
   ]
  },
  {
   "cell_type": "code",
   "execution_count": 2,
   "metadata": {},
   "outputs": [
    {
     "name": "stdout",
     "output_type": "stream",
     "text": [
      "53539\n"
     ]
    }
   ],
   "source": [
    "word_digit_pairs = [\n",
    "    ('one', 'o1e'),\n",
    "    ('two', 't2o'),\n",
    "    ('three', 't3e'),\n",
    "    ('four', 'f4r'),\n",
    "    ('five', 'f5e'),\n",
    "    ('six', 's6x'),\n",
    "    ('seven', 's7s'),\n",
    "    ('eight', 'e8t'),\n",
    "    ('nine', 'n9e')\n",
    "]\n",
    "lines_replaced = lines\n",
    "for word, digit in word_digit_pairs:\n",
    "    lines_replaced = [x.replace(word, digit) for x in lines_replaced]\n",
    "print(calibration_values(lines_replaced))"
   ]
  }
 ],
 "metadata": {
  "kernelspec": {
   "display_name": "Python 3",
   "language": "python",
   "name": "python3"
  },
  "language_info": {
   "codemirror_mode": {
    "name": "ipython",
    "version": 3
   },
   "file_extension": ".py",
   "mimetype": "text/x-python",
   "name": "python",
   "nbconvert_exporter": "python",
   "pygments_lexer": "ipython3",
   "version": "3.11.0"
  },
  "orig_nbformat": 4
 },
 "nbformat": 4,
 "nbformat_minor": 2
}
